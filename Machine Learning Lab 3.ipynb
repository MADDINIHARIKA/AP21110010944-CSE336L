{
 "cells": [
  {
   "cell_type": "code",
   "execution_count": 7,
   "id": "e3448bcd",
   "metadata": {},
   "outputs": [],
   "source": [
    "import pandas as pd\n",
    "import numpy as np\n",
    "import matplotlib.pyplot as plt"
   ]
  },
  {
   "cell_type": "code",
   "execution_count": 8,
   "id": "7e7abef4",
   "metadata": {},
   "outputs": [],
   "source": [
    "df = pd.read_csv('tips.csv')"
   ]
  },
  {
   "cell_type": "markdown",
   "id": "23be7a51",
   "metadata": {},
   "source": [
    "Read the tips dataset from the provided source only. Handle the missing values with the appropriate techniques."
   ]
  },
  {
   "cell_type": "code",
   "execution_count": 19,
   "id": "068bd702",
   "metadata": {},
   "outputs": [
    {
     "data": {
      "text/html": [
       "<div>\n",
       "<style scoped>\n",
       "    .dataframe tbody tr th:only-of-type {\n",
       "        vertical-align: middle;\n",
       "    }\n",
       "\n",
       "    .dataframe tbody tr th {\n",
       "        vertical-align: top;\n",
       "    }\n",
       "\n",
       "    .dataframe thead th {\n",
       "        text-align: right;\n",
       "    }\n",
       "</style>\n",
       "<table border=\"1\" class=\"dataframe\">\n",
       "  <thead>\n",
       "    <tr style=\"text-align: right;\">\n",
       "      <th></th>\n",
       "      <th>Unnamed: 0</th>\n",
       "      <th>total_bill</th>\n",
       "      <th>tip</th>\n",
       "      <th>sex</th>\n",
       "      <th>smoker</th>\n",
       "      <th>day</th>\n",
       "      <th>time</th>\n",
       "      <th>size</th>\n",
       "      <th>total_bill_median</th>\n",
       "    </tr>\n",
       "  </thead>\n",
       "  <tbody>\n",
       "    <tr>\n",
       "      <th>0</th>\n",
       "      <td>0</td>\n",
       "      <td>16.99</td>\n",
       "      <td>1.01</td>\n",
       "      <td>Female</td>\n",
       "      <td>No</td>\n",
       "      <td>Sun</td>\n",
       "      <td>Dinner</td>\n",
       "      <td>2</td>\n",
       "      <td>16.99</td>\n",
       "    </tr>\n",
       "    <tr>\n",
       "      <th>1</th>\n",
       "      <td>1</td>\n",
       "      <td>NaN</td>\n",
       "      <td>1.66</td>\n",
       "      <td>Male</td>\n",
       "      <td>No</td>\n",
       "      <td>Sun</td>\n",
       "      <td>Dinner</td>\n",
       "      <td>3</td>\n",
       "      <td>19.44</td>\n",
       "    </tr>\n",
       "    <tr>\n",
       "      <th>2</th>\n",
       "      <td>2</td>\n",
       "      <td>21.01</td>\n",
       "      <td>3.50</td>\n",
       "      <td>Male</td>\n",
       "      <td>No</td>\n",
       "      <td>Sun</td>\n",
       "      <td>Dinner</td>\n",
       "      <td>3</td>\n",
       "      <td>21.01</td>\n",
       "    </tr>\n",
       "    <tr>\n",
       "      <th>3</th>\n",
       "      <td>3</td>\n",
       "      <td>23.68</td>\n",
       "      <td>3.31</td>\n",
       "      <td>Male</td>\n",
       "      <td>No</td>\n",
       "      <td>Sun</td>\n",
       "      <td>Dinner</td>\n",
       "      <td>2</td>\n",
       "      <td>23.68</td>\n",
       "    </tr>\n",
       "    <tr>\n",
       "      <th>4</th>\n",
       "      <td>4</td>\n",
       "      <td>24.59</td>\n",
       "      <td>3.61</td>\n",
       "      <td>Female</td>\n",
       "      <td>No</td>\n",
       "      <td>Sun</td>\n",
       "      <td>Dinner</td>\n",
       "      <td>4</td>\n",
       "      <td>24.59</td>\n",
       "    </tr>\n",
       "  </tbody>\n",
       "</table>\n",
       "</div>"
      ],
      "text/plain": [
       "   Unnamed: 0  total_bill   tip     sex smoker  day    time  size  \\\n",
       "0           0       16.99  1.01  Female     No  Sun  Dinner     2   \n",
       "1           1         NaN  1.66    Male     No  Sun  Dinner     3   \n",
       "2           2       21.01  3.50    Male     No  Sun  Dinner     3   \n",
       "3           3       23.68  3.31    Male     No  Sun  Dinner     2   \n",
       "4           4       24.59  3.61  Female     No  Sun  Dinner     4   \n",
       "\n",
       "   total_bill_median  \n",
       "0              16.99  \n",
       "1              19.44  \n",
       "2              21.01  \n",
       "3              23.68  \n",
       "4              24.59  "
      ]
     },
     "execution_count": 19,
     "metadata": {},
     "output_type": "execute_result"
    }
   ],
   "source": [
    "df.head()"
   ]
  },
  {
   "cell_type": "code",
   "execution_count": 20,
   "id": "74617d03",
   "metadata": {},
   "outputs": [
    {
     "data": {
      "text/plain": [
       "Unnamed: 0            0\n",
       "total_bill           39\n",
       "tip                   0\n",
       "sex                   0\n",
       "smoker                0\n",
       "day                   0\n",
       "time                  0\n",
       "size                  0\n",
       "total_bill_median     0\n",
       "dtype: int64"
      ]
     },
     "execution_count": 20,
     "metadata": {},
     "output_type": "execute_result"
    }
   ],
   "source": [
    "df.isnull().sum()"
   ]
  },
  {
   "cell_type": "code",
   "execution_count": 22,
   "id": "3355e830",
   "metadata": {},
   "outputs": [
    {
     "data": {
      "text/plain": [
       "39"
      ]
     },
     "execution_count": 22,
     "metadata": {},
     "output_type": "execute_result"
    }
   ],
   "source": [
    "df.isnull().sum().sum()"
   ]
  },
  {
   "cell_type": "code",
   "execution_count": 23,
   "id": "adbe7560",
   "metadata": {},
   "outputs": [
    {
     "name": "stdout",
     "output_type": "stream",
     "text": [
      "<class 'pandas.core.frame.DataFrame'>\n",
      "RangeIndex: 244 entries, 0 to 243\n",
      "Data columns (total 9 columns):\n",
      " #   Column             Non-Null Count  Dtype  \n",
      "---  ------             --------------  -----  \n",
      " 0   Unnamed: 0         244 non-null    int64  \n",
      " 1   total_bill         205 non-null    float64\n",
      " 2   tip                244 non-null    float64\n",
      " 3   sex                244 non-null    object \n",
      " 4   smoker             244 non-null    object \n",
      " 5   day                244 non-null    object \n",
      " 6   time               244 non-null    object \n",
      " 7   size               244 non-null    int64  \n",
      " 8   total_bill_median  244 non-null    float64\n",
      "dtypes: float64(3), int64(2), object(4)\n",
      "memory usage: 17.3+ KB\n"
     ]
    }
   ],
   "source": [
    "df.info()"
   ]
  },
  {
   "cell_type": "code",
   "execution_count": 25,
   "id": "9b61af56",
   "metadata": {},
   "outputs": [
    {
     "data": {
      "text/plain": [
       "39"
      ]
     },
     "execution_count": 25,
     "metadata": {},
     "output_type": "execute_result"
    }
   ],
   "source": [
    "df['total_bill'].isnull().sum()"
   ]
  },
  {
   "cell_type": "code",
   "execution_count": 26,
   "id": "c748ba97",
   "metadata": {},
   "outputs": [
    {
     "data": {
      "text/plain": [
       "Unnamed: 0           244\n",
       "total_bill           205\n",
       "tip                  244\n",
       "sex                  244\n",
       "smoker               244\n",
       "day                  244\n",
       "time                 244\n",
       "size                 244\n",
       "total_bill_median    244\n",
       "dtype: int64"
      ]
     },
     "execution_count": 26,
     "metadata": {},
     "output_type": "execute_result"
    }
   ],
   "source": [
    "df.notnull().sum()"
   ]
  },
  {
   "cell_type": "code",
   "execution_count": 27,
   "id": "e6076f8b",
   "metadata": {},
   "outputs": [
    {
     "data": {
      "text/plain": [
       "2157"
      ]
     },
     "execution_count": 27,
     "metadata": {},
     "output_type": "execute_result"
    }
   ],
   "source": [
    "df.notnull().sum().sum()"
   ]
  },
  {
   "cell_type": "code",
   "execution_count": 28,
   "id": "49c81c0c",
   "metadata": {},
   "outputs": [
    {
     "data": {
      "text/plain": [
       "21.36019512195122"
      ]
     },
     "execution_count": 28,
     "metadata": {},
     "output_type": "execute_result"
    }
   ],
   "source": [
    "df['total_bill'].mean()"
   ]
  },
  {
   "cell_type": "code",
   "execution_count": 29,
   "id": "1308ae9a",
   "metadata": {},
   "outputs": [
    {
     "data": {
      "text/plain": [
       "Unnamed: 0           0.000000\n",
       "total_bill           0.159836\n",
       "tip                  0.000000\n",
       "sex                  0.000000\n",
       "smoker               0.000000\n",
       "day                  0.000000\n",
       "time                 0.000000\n",
       "size                 0.000000\n",
       "total_bill_median    0.000000\n",
       "dtype: float64"
      ]
     },
     "execution_count": 29,
     "metadata": {},
     "output_type": "execute_result"
    }
   ],
   "source": [
    "df.isnull().mean()"
   ]
  },
  {
   "cell_type": "code",
   "execution_count": 30,
   "id": "e7aada25",
   "metadata": {},
   "outputs": [
    {
     "data": {
      "text/plain": [
       "Unnamed: 0            0\n",
       "total_bill           39\n",
       "tip                   0\n",
       "sex                   0\n",
       "smoker                0\n",
       "day                   0\n",
       "time                  0\n",
       "size                  0\n",
       "total_bill_median     0\n",
       "dtype: int64"
      ]
     },
     "execution_count": 30,
     "metadata": {},
     "output_type": "execute_result"
    }
   ],
   "source": [
    "df.isna().sum()"
   ]
  },
  {
   "cell_type": "code",
   "execution_count": 31,
   "id": "badda922",
   "metadata": {},
   "outputs": [],
   "source": [
    "df['total_bill']=df['total_bill'].fillna(df['total_bill'].mean())"
   ]
  },
  {
   "cell_type": "code",
   "execution_count": 32,
   "id": "39f02fa3",
   "metadata": {},
   "outputs": [
    {
     "data": {
      "text/html": [
       "<div>\n",
       "<style scoped>\n",
       "    .dataframe tbody tr th:only-of-type {\n",
       "        vertical-align: middle;\n",
       "    }\n",
       "\n",
       "    .dataframe tbody tr th {\n",
       "        vertical-align: top;\n",
       "    }\n",
       "\n",
       "    .dataframe thead th {\n",
       "        text-align: right;\n",
       "    }\n",
       "</style>\n",
       "<table border=\"1\" class=\"dataframe\">\n",
       "  <thead>\n",
       "    <tr style=\"text-align: right;\">\n",
       "      <th></th>\n",
       "      <th>Unnamed: 0</th>\n",
       "      <th>total_bill</th>\n",
       "      <th>tip</th>\n",
       "      <th>sex</th>\n",
       "      <th>smoker</th>\n",
       "      <th>day</th>\n",
       "      <th>time</th>\n",
       "      <th>size</th>\n",
       "      <th>total_bill_median</th>\n",
       "    </tr>\n",
       "  </thead>\n",
       "  <tbody>\n",
       "    <tr>\n",
       "      <th>0</th>\n",
       "      <td>0</td>\n",
       "      <td>16.990000</td>\n",
       "      <td>1.01</td>\n",
       "      <td>Female</td>\n",
       "      <td>No</td>\n",
       "      <td>Sun</td>\n",
       "      <td>Dinner</td>\n",
       "      <td>2</td>\n",
       "      <td>16.99</td>\n",
       "    </tr>\n",
       "    <tr>\n",
       "      <th>1</th>\n",
       "      <td>1</td>\n",
       "      <td>21.360195</td>\n",
       "      <td>1.66</td>\n",
       "      <td>Male</td>\n",
       "      <td>No</td>\n",
       "      <td>Sun</td>\n",
       "      <td>Dinner</td>\n",
       "      <td>3</td>\n",
       "      <td>19.44</td>\n",
       "    </tr>\n",
       "    <tr>\n",
       "      <th>2</th>\n",
       "      <td>2</td>\n",
       "      <td>21.010000</td>\n",
       "      <td>3.50</td>\n",
       "      <td>Male</td>\n",
       "      <td>No</td>\n",
       "      <td>Sun</td>\n",
       "      <td>Dinner</td>\n",
       "      <td>3</td>\n",
       "      <td>21.01</td>\n",
       "    </tr>\n",
       "    <tr>\n",
       "      <th>3</th>\n",
       "      <td>3</td>\n",
       "      <td>23.680000</td>\n",
       "      <td>3.31</td>\n",
       "      <td>Male</td>\n",
       "      <td>No</td>\n",
       "      <td>Sun</td>\n",
       "      <td>Dinner</td>\n",
       "      <td>2</td>\n",
       "      <td>23.68</td>\n",
       "    </tr>\n",
       "    <tr>\n",
       "      <th>4</th>\n",
       "      <td>4</td>\n",
       "      <td>24.590000</td>\n",
       "      <td>3.61</td>\n",
       "      <td>Female</td>\n",
       "      <td>No</td>\n",
       "      <td>Sun</td>\n",
       "      <td>Dinner</td>\n",
       "      <td>4</td>\n",
       "      <td>24.59</td>\n",
       "    </tr>\n",
       "  </tbody>\n",
       "</table>\n",
       "</div>"
      ],
      "text/plain": [
       "   Unnamed: 0  total_bill   tip     sex smoker  day    time  size  \\\n",
       "0           0   16.990000  1.01  Female     No  Sun  Dinner     2   \n",
       "1           1   21.360195  1.66    Male     No  Sun  Dinner     3   \n",
       "2           2   21.010000  3.50    Male     No  Sun  Dinner     3   \n",
       "3           3   23.680000  3.31    Male     No  Sun  Dinner     2   \n",
       "4           4   24.590000  3.61  Female     No  Sun  Dinner     4   \n",
       "\n",
       "   total_bill_median  \n",
       "0              16.99  \n",
       "1              19.44  \n",
       "2              21.01  \n",
       "3              23.68  \n",
       "4              24.59  "
      ]
     },
     "execution_count": 32,
     "metadata": {},
     "output_type": "execute_result"
    }
   ],
   "source": [
    "df.head(5)"
   ]
  },
  {
   "cell_type": "code",
   "execution_count": 33,
   "id": "66fc4a13",
   "metadata": {},
   "outputs": [
    {
     "data": {
      "text/plain": [
       "Unnamed: 0           0\n",
       "total_bill           0\n",
       "tip                  0\n",
       "sex                  0\n",
       "smoker               0\n",
       "day                  0\n",
       "time                 0\n",
       "size                 0\n",
       "total_bill_median    0\n",
       "dtype: int64"
      ]
     },
     "execution_count": 33,
     "metadata": {},
     "output_type": "execute_result"
    }
   ],
   "source": [
    "df.isnull().sum()"
   ]
  },
  {
   "cell_type": "markdown",
   "id": "af48119b",
   "metadata": {},
   "source": [
    "Handle the categorical data in the tips dataset with the relevant approaches such as label-encoding, one hot encoding, ordinal encoding."
   ]
  },
  {
   "cell_type": "code",
   "execution_count": 35,
   "id": "3542366c",
   "metadata": {},
   "outputs": [
    {
     "name": "stdout",
     "output_type": "stream",
     "text": [
      "<class 'pandas.core.frame.DataFrame'>\n",
      "RangeIndex: 244 entries, 0 to 243\n",
      "Data columns (total 9 columns):\n",
      " #   Column             Non-Null Count  Dtype  \n",
      "---  ------             --------------  -----  \n",
      " 0   Unnamed: 0         244 non-null    int64  \n",
      " 1   total_bill         244 non-null    float64\n",
      " 2   tip                244 non-null    float64\n",
      " 3   sex                244 non-null    object \n",
      " 4   smoker             244 non-null    object \n",
      " 5   day                244 non-null    object \n",
      " 6   time               244 non-null    object \n",
      " 7   size               244 non-null    int64  \n",
      " 8   total_bill_median  244 non-null    float64\n",
      "dtypes: float64(3), int64(2), object(4)\n",
      "memory usage: 17.3+ KB\n"
     ]
    }
   ],
   "source": [
    "df.info()"
   ]
  },
  {
   "cell_type": "code",
   "execution_count": 36,
   "id": "725df0a1",
   "metadata": {},
   "outputs": [],
   "source": [
    "from sklearn.preprocessing import OneHotEncoder\n",
    "o=OneHotEncoder()"
   ]
  },
  {
   "cell_type": "code",
   "execution_count": 37,
   "id": "5871e8b0",
   "metadata": {},
   "outputs": [
    {
     "data": {
      "text/plain": [
       "array([[1., 0., 1., ..., 0., 1., 0.],\n",
       "       [0., 1., 1., ..., 0., 1., 0.],\n",
       "       [0., 1., 1., ..., 0., 1., 0.],\n",
       "       ...,\n",
       "       [0., 1., 0., ..., 0., 1., 0.],\n",
       "       [0., 1., 1., ..., 0., 1., 0.],\n",
       "       [1., 0., 1., ..., 1., 1., 0.]])"
      ]
     },
     "execution_count": 37,
     "metadata": {},
     "output_type": "execute_result"
    }
   ],
   "source": [
    "o.fit_transform(df[['sex','smoker','day','time']]).toarray()"
   ]
  },
  {
   "cell_type": "markdown",
   "id": "66ca7ceb",
   "metadata": {},
   "source": [
    "Perform feature scaling techniques such as min-max normalization, standardization, z-score, on the tips dataset"
   ]
  },
  {
   "cell_type": "code",
   "execution_count": 38,
   "id": "97b377ba",
   "metadata": {},
   "outputs": [],
   "source": [
    "from sklearn.preprocessing import MinMaxScaler\n",
    "m=MinMaxScaler()"
   ]
  },
  {
   "cell_type": "code",
   "execution_count": 39,
   "id": "b768ab11",
   "metadata": {},
   "outputs": [],
   "source": [
    "df_m=m.fit_transform(df[['total_bill','tip']])"
   ]
  },
  {
   "cell_type": "code",
   "execution_count": 40,
   "id": "5ad91109",
   "metadata": {},
   "outputs": [
    {
     "data": {
      "text/html": [
       "<div>\n",
       "<style scoped>\n",
       "    .dataframe tbody tr th:only-of-type {\n",
       "        vertical-align: middle;\n",
       "    }\n",
       "\n",
       "    .dataframe tbody tr th {\n",
       "        vertical-align: top;\n",
       "    }\n",
       "\n",
       "    .dataframe thead th {\n",
       "        text-align: right;\n",
       "    }\n",
       "</style>\n",
       "<table border=\"1\" class=\"dataframe\">\n",
       "  <thead>\n",
       "    <tr style=\"text-align: right;\">\n",
       "      <th></th>\n",
       "      <th>total_bill</th>\n",
       "      <th>tip</th>\n",
       "    </tr>\n",
       "  </thead>\n",
       "  <tbody>\n",
       "    <tr>\n",
       "      <th>26</th>\n",
       "      <td>0.215752</td>\n",
       "      <td>0.111111</td>\n",
       "    </tr>\n",
       "    <tr>\n",
       "      <th>27</th>\n",
       "      <td>0.383121</td>\n",
       "      <td>0.111111</td>\n",
       "    </tr>\n",
       "    <tr>\n",
       "      <th>146</th>\n",
       "      <td>0.326142</td>\n",
       "      <td>0.040000</td>\n",
       "    </tr>\n",
       "    <tr>\n",
       "      <th>98</th>\n",
       "      <td>0.375786</td>\n",
       "      <td>0.222222</td>\n",
       "    </tr>\n",
       "    <tr>\n",
       "      <th>112</th>\n",
       "      <td>0.733138</td>\n",
       "      <td>0.333333</td>\n",
       "    </tr>\n",
       "  </tbody>\n",
       "</table>\n",
       "</div>"
      ],
      "text/plain": [
       "     total_bill       tip\n",
       "26     0.215752  0.111111\n",
       "27     0.383121  0.111111\n",
       "146    0.326142  0.040000\n",
       "98     0.375786  0.222222\n",
       "112    0.733138  0.333333"
      ]
     },
     "execution_count": 40,
     "metadata": {},
     "output_type": "execute_result"
    }
   ],
   "source": [
    "d=pd.DataFrame(df_m,columns=['total_bill','tip'])\n",
    "d.sample(5)"
   ]
  },
  {
   "cell_type": "code",
   "execution_count": 43,
   "id": "572bb077",
   "metadata": {},
   "outputs": [
    {
     "data": {
      "text/plain": [
       "(array([ 1.,  1., 10.,  5.,  0., 21., 27., 30., 15., 58., 14., 13.,  8.,\n",
       "         7.,  8.,  5.,  6.,  1.,  3.,  4.,  1.,  1.,  1.,  3.,  1.]),\n",
       " array([0.  , 0.04, 0.08, 0.12, 0.16, 0.2 , 0.24, 0.28, 0.32, 0.36, 0.4 ,\n",
       "        0.44, 0.48, 0.52, 0.56, 0.6 , 0.64, 0.68, 0.72, 0.76, 0.8 , 0.84,\n",
       "        0.88, 0.92, 0.96, 1.  ]),\n",
       " <BarContainer object of 25 artists>)"
      ]
     },
     "execution_count": 43,
     "metadata": {},
     "output_type": "execute_result"
    },
    {
     "data": {
      "image/png": "[encoded data removed]",
      "text/plain": [
       "<Figure size 640x480 with 1 Axes>"
      ]
     },
     "metadata": {},
     "output_type": "display_data"
    }
   ],
   "source": [
    "plt.hist(d['total_bill'],bins=25,color='pink',edgecolor='black')"
   ]
  },
  {
   "cell_type": "code",
   "execution_count": 44,
   "id": "2c5f33fb",
   "metadata": {},
   "outputs": [],
   "source": [
    "from sklearn.preprocessing import StandardScaler\n",
    "s=StandardScaler()"
   ]
  },
  {
   "cell_type": "code",
   "execution_count": 45,
   "id": "befc9255",
   "metadata": {},
   "outputs": [
    {
     "data": {
      "text/plain": [
       "array([[-5.38971741e-01, -1.43994695e+00],\n",
       "       [ 0.00000000e+00, -9.69205340e-01],\n",
       "       [-4.31892099e-02,  3.63355539e-01],\n",
       "       [ 2.86099188e-01,  2.25754144e-01],\n",
       "       [ 3.98328567e-01,  4.43019505e-01],\n",
       "       [ 4.84658858e-01,  1.23965916e+00],\n",
       "       [-1.55273602e+00, -7.22971264e-01],\n",
       "       [ 6.80751949e-01,  8.81527488e-02],\n",
       "       [-7.79463267e-01, -7.51939979e-01],\n",
       "       [-8.11528804e-01,  1.67816714e-01],\n",
       "       [ 0.00000000e+00, -9.32994446e-01],\n",
       "       [ 1.71424887e+00,  1.44968234e+00],\n",
       "       [-7.32598252e-01, -1.03438495e+00],\n",
       "       [-3.61377999e-01,  1.24660453e-03],\n",
       "       [-8.05362355e-01,  1.57309619e-02],\n",
       "       [ 2.71083131e-02,  6.67527044e-01],\n",
       "       [ 0.00000000e+00, -9.61963161e-01],\n",
       "       [-6.25302033e-01,  5.15441291e-01],\n",
       "       [-5.41438321e-01,  3.63355539e-01],\n",
       "       [-8.75876456e-02,  2.54722859e-01],\n",
       "       [-4.24275782e-01,  7.83401903e-01],\n",
       "       [-1.31986081e-01, -1.79807863e-01],\n",
       "       [-6.89433106e-01, -5.56401155e-01],\n",
       "       [ 2.22729746e+00,  3.31816444e+00],\n",
       "       [-1.89950705e-01,  1.31605821e-01],\n",
       "       [-4.37841971e-01, -4.76737189e-01],\n",
       "       [-9.85422677e-01, -7.22971264e-01],\n",
       "       [ 0.00000000e+00, -7.22971264e-01],\n",
       "       [ 4.19077917e-02,  9.42729834e-01],\n",
       "       [-2.10916633e-01,  1.24660453e-03],\n",
       "       [-1.45653941e+00, -1.12129109e+00],\n",
       "       [-3.71244318e-01, -3.60862330e-01],\n",
       "       [-7.76996688e-01,  1.24660453e-03],\n",
       "       [-8.26544860e-02, -3.97073223e-01],\n",
       "       [-4.41541841e-01,  1.96785429e-01],\n",
       "       [ 3.32964203e-01,  4.35777326e-01],\n",
       "       [-6.22835453e-01, -7.22971264e-01],\n",
       "       [-5.46371480e-01,  5.19418554e-02],\n",
       "       [-3.29312462e-01, -4.98463725e-01],\n",
       "       [ 1.22216621e+00,  1.44968234e+00],\n",
       "       [-6.56134280e-01, -5.49158976e-01],\n",
       "       [-4.81007117e-01, -3.31893615e-01],\n",
       "       [-9.15125154e-01,  4.46996767e-02],\n",
       "       [-1.44050664e+00, -1.21543942e+00],\n",
       "       [ 1.11486999e+00,  1.88421306e+00],\n",
       "       [-3.78644057e-01,  1.24660453e-03],\n",
       "       [ 1.07272155e-01,  1.44968234e+00],\n",
       "       [ 1.36152796e+00,  2.17390021e+00],\n",
       "       [ 8.86711358e-01, -6.86760371e-01],\n",
       "       [-4.09476304e-01,  1.24660453e-03],\n",
       "       [ 0.00000000e+00, -3.60862330e-01],\n",
       "       [ 0.00000000e+00, -2.88440543e-01],\n",
       "       [ 1.65875082e+00,  1.59452592e+00],\n",
       "       [-1.40844111e+00, -1.04162713e+00],\n",
       "       [ 5.17957685e-01,  9.71698549e-01],\n",
       "       [-2.30649271e-01,  3.70597718e-01],\n",
       "       [ 2.05340358e+00,  1.24660453e-03],\n",
       "       [ 6.22787324e-01, -1.08508020e+00],\n",
       "       [ 0.00000000e+00, -8.96783553e-01],\n",
       "       [ 3.31875900e+00,  2.70257926e+00],\n",
       "       [-1.31986081e-01,  1.53332357e-01],\n",
       "       [-9.31157922e-01, -7.22971264e-01],\n",
       "       [ 0.00000000e+00, -7.37455622e-01],\n",
       "       [-3.78644057e-01,  5.51652185e-01],\n",
       "       [-4.64974348e-01, -2.59471828e-01],\n",
       "       [-1.57885169e-01,  1.09879285e-01],\n",
       "       [-6.05569394e-01, -3.82588866e-01],\n",
       "       [-2.25571125e+00, -1.44718913e+00],\n",
       "       [-1.39385820e-01, -7.15729086e-01],\n",
       "       [-7.83163137e-01, -6.57791656e-01],\n",
       "       [ 0.00000000e+00, -7.44697800e-01],\n",
       "       [-5.29105422e-01,  1.24660453e-03],\n",
       "       [ 6.78285369e-01,  1.02637106e-01],\n",
       "       [ 4.83425568e-01,  1.44968234e+00],\n",
       "       [-8.17695254e-01, -5.78127691e-01],\n",
       "       [ 0.00000000e+00, -1.26613467e+00],\n",
       "       [-4.24275782e-01,  5.91840340e-02],\n",
       "       [ 7.20217225e-01,  7.25464473e-01],\n",
       "       [ 1.72636519e-01,  1.24660453e-03],\n",
       "       [-5.01973045e-01, -2.08776577e-01],\n",
       "       [-2.36815721e-01,  1.24660453e-03],\n",
       "       [-5.79670307e-01,  2.90933752e-01],\n",
       "       [ 0.00000000e+00, -8.46088302e-01],\n",
       "       [ 1.39606008e+00,  1.44968234e+00],\n",
       "       [-6.63534019e-01, -7.01244728e-01],\n",
       "       [ 1.66121740e+00,  1.57279938e+00],\n",
       "       [-1.02735453e+00, -7.22971264e-01],\n",
       "       [-3.79877347e-01,  7.25464473e-01],\n",
       "       [ 4.13128045e-01,  2.06526753e+00],\n",
       "       [-2.46898618e-02,  1.24660453e-03],\n",
       "       [ 9.38509533e-01,  1.24660453e-03],\n",
       "       [ 1.39337692e-01,  3.63355539e-01],\n",
       "       [-1.92518956e+00, -1.44718913e+00],\n",
       "       [-6.21602163e-01,  9.42729834e-01],\n",
       "       [ 1.71403229e-01,  1.82301072e-01],\n",
       "       [ 2.31979420e+00,  1.25414352e+00],\n",
       "       [ 7.30083544e-01,  7.25464473e-01],\n",
       "       [ 0.00000000e+00, -1.08508020e+00],\n",
       "       [-4.31892099e-02,  1.24660453e-03],\n",
       "       [ 0.00000000e+00, -1.08508020e+00],\n",
       "       [ 0.00000000e+00, -3.60862330e-01],\n",
       "       [-7.37531411e-01,  1.24660453e-03],\n",
       "       [ 2.82914292e+00, -3.60862330e-01],\n",
       "       [ 1.30704663e-01,  3.48871182e-01],\n",
       "       [-5.42888188e-02,  7.83401903e-01],\n",
       "       [-7.39997991e-01, -9.83689697e-01],\n",
       "       [-1.07320284e-01,  7.68917546e-01],\n",
       "       [ 4.74792539e-01,  9.35487655e-01],\n",
       "       [-3.84810506e-01,  5.51652185e-01],\n",
       "       [-8.69493428e-01,  7.25464473e-01],\n",
       "       [-9.07725415e-01,  1.24660453e-03],\n",
       "       [-1.74019608e+00, -1.44718913e+00],\n",
       "       [ 2.06080332e+00,  7.25464473e-01],\n",
       "       [ 3.19398014e-01, -3.24651436e-01],\n",
       "       [ 5.36457033e-01,  7.25464473e-01],\n",
       "       [-4.99506465e-01,  3.63355539e-01],\n",
       "       [ 1.05690536e+00,  1.50037759e+00],\n",
       "       [ 0.00000000e+00, -1.08508020e+00],\n",
       "       [ 0.00000000e+00, -8.67814838e-01],\n",
       "       [ 3.35430783e-01, -5.66908250e-02],\n",
       "       [ 0.00000000e+00, -4.98463725e-01],\n",
       "       [-9.79256228e-01, -9.54720982e-01],\n",
       "       [-8.75659878e-01, -3.60862330e-01],\n",
       "       [-6.67233888e-01, -7.22971264e-01],\n",
       "       [ 0.00000000e+00, -3.46377973e-01],\n",
       "       [ 1.04087259e+00,  8.70308047e-01],\n",
       "       [-1.58356827e+00, -1.09956456e+00],\n",
       "       [-8.43594341e-01, -7.22971264e-01],\n",
       "       [ 0.00000000e+00, -7.22971264e-01],\n",
       "       [ 1.80036258e-01, -5.92612048e-01],\n",
       "       [-2.81214156e-01, -1.08508020e+00],\n",
       "       [-1.34452661e-01, -1.21870433e-01],\n",
       "       [ 0.00000000e+00, -1.08508020e+00],\n",
       "       [ 0.00000000e+00, -7.22971264e-01],\n",
       "       [-3.82343926e-01,  1.82301072e-01],\n",
       "       [-1.58480156e+00, -1.26613467e+00],\n",
       "       [ 0.00000000e+00, -7.22971264e-01],\n",
       "       [-8.89226067e-01, -7.22971264e-01],\n",
       "       [-6.61067439e-01, -7.22971264e-01],\n",
       "       [-1.01132176e+00, -1.79807863e-01],\n",
       "       [-4.79773827e-01,  3.63355539e-01],\n",
       "       [ 1.59585304e+00,  2.68085272e+00],\n",
       "       [ 2.44558976e+00,  1.44968234e+00],\n",
       "       [ 7.01717877e-01,  1.44968234e+00],\n",
       "       [-6.08035974e-01, -5.05705904e-01],\n",
       "       [-1.60453420e+00, -1.08508020e+00],\n",
       "       [-3.35478911e-01, -1.18647070e+00],\n",
       "       [ 0.00000000e+00, -9.90931876e-01],\n",
       "       [-1.42817374e+00, -9.18510089e-01],\n",
       "       [-1.70813055e+00, -7.22971264e-01],\n",
       "       [-8.99092386e-01, -3.60862330e-01],\n",
       "       [-1.01502163e+00, -7.22971264e-01],\n",
       "       [-5.05672914e-01, -1.87050041e-01],\n",
       "       [ 3.93395407e-01, -7.22971264e-01],\n",
       "       [-1.96117155e-01, -7.22971264e-01],\n",
       "       [ 1.04703904e+00,  1.55107284e+00],\n",
       "       [ 3.30642610e+00,  1.44968234e+00],\n",
       "       [ 4.48893452e-01,  5.44410006e-01],\n",
       "       [-9.82956097e-01, -2.81198364e-01],\n",
       "       [-6.00636235e-01, -7.22971264e-01],\n",
       "       [ 1.72419941e-02,  3.63355539e-01],\n",
       "       [ 0.00000000e+00, -3.60862330e-01],\n",
       "       [-6.35168352e-01, -7.22971264e-01],\n",
       "       [-9.31157922e-01, -7.22971264e-01],\n",
       "       [-4.74840667e-01,  1.24660453e-03],\n",
       "       [ 3.89695537e-01,  3.48871182e-01],\n",
       "       [-7.40214569e-02, -5.49158976e-01],\n",
       "       [ 1.27643096e+00,  1.08757341e+00],\n",
       "       [ 0.00000000e+00, -1.00541623e+00],\n",
       "       [ 0.00000000e+00, -7.22971264e-01],\n",
       "       [ 3.63201463e+00,  5.07077169e+00],\n",
       "       [-6.84499947e-01,  1.17121464e-01],\n",
       "       [-1.74019608e+00,  1.55831502e+00],\n",
       "       [ 1.29369702e+00,  1.31605821e-01],\n",
       "       [-5.59937669e-01,  7.25464473e-01],\n",
       "       [ 1.42319246e+00,  8.09105701e-02],\n",
       "       [-4.27975652e-01, -7.22971264e-01],\n",
       "       [-8.48527501e-01, -7.22971264e-01],\n",
       "       [-1.45037296e+00,  7.25464473e-01],\n",
       "       [ 1.63655160e+00,  3.99566432e-01],\n",
       "       [ 1.63901818e+00,  4.93714755e-01],\n",
       "       [ 2.42934042e-01,  1.92042396e+00],\n",
       "       [ 2.95863835e+00,  3.63355539e-01],\n",
       "       [ 2.23201404e-01,  2.53600915e+00],\n",
       "       [ 2.36665921e+00,  1.24660453e-03],\n",
       "       [-8.26544860e-02,  1.44968234e+00],\n",
       "       [-5.67553986e-02,  3.63355539e-01],\n",
       "       [ 1.12226973e+00, -7.22971264e-01],\n",
       "       [-3.95910115e-01,  3.63355539e-01],\n",
       "       [ 2.14568375e-01,  7.25464473e-01],\n",
       "       [-6.99299425e-01, -1.08508020e+00],\n",
       "       [-1.91183995e-01,  8.63065869e-01],\n",
       "       [ 8.73145170e-01, -3.17409258e-01],\n",
       "       [-7.25198513e-01, -7.08486907e-01],\n",
       "       [-5.89536626e-01,  7.25464473e-01],\n",
       "       [-1.70196410e+00, -1.12853327e+00],\n",
       "       [ 0.00000000e+00, -7.22971264e-01],\n",
       "       [ 2.68238142e+00,  1.44968234e+00],\n",
       "       [ 0.00000000e+00, -7.22971264e-01],\n",
       "       [-9.68156619e-01, -7.22971264e-01],\n",
       "       [-3.26845882e-01,  7.25464473e-01],\n",
       "       [ 0.00000000e+00, -7.15729086e-01],\n",
       "       [ 0.00000000e+00, -7.22971264e-01],\n",
       "       [-6.11735844e-01, -3.60862330e-01],\n",
       "       [-1.02387124e-01,  7.25464473e-01],\n",
       "       [-6.03102815e-01,  1.67816714e-01],\n",
       "       [ 6.44986542e-01,  2.98175931e-01],\n",
       "       [ 2.14220045e+00,  1.24660453e-03],\n",
       "       [ 3.58863290e-01, -7.01244728e-01],\n",
       "       [ 0.00000000e+00, -5.56401155e-01],\n",
       "       [ 1.07293813e+00, -7.22971264e-01],\n",
       "       [ 5.58656251e-01,  1.56555720e+00],\n",
       "       [ 3.32615874e+00,  4.34655382e+00],\n",
       "       [-9.97755576e-01, -3.60862330e-01],\n",
       "       [ 8.39846343e-01,  2.53600915e+00],\n",
       "       [ 0.00000000e+00, -1.37476735e+00],\n",
       "       [ 8.37379763e-01,  1.24660453e-03],\n",
       "       [ 0.00000000e+00, -1.08508020e+00],\n",
       "       [-1.67976488e+00, -1.12853327e+00],\n",
       "       [ 1.08280445e+00,  6.64262127e-02],\n",
       "       [ 0.00000000e+00, -5.78127691e-01],\n",
       "       [-9.79256228e-01,  3.48871182e-01],\n",
       "       [-1.57616853e+00, -7.80908694e-01],\n",
       "       [-6.63534019e-01,  1.24660453e-03],\n",
       "       [-9.79256228e-01, -1.02714277e+00],\n",
       "       [-6.27768612e-01, -3.60862330e-01],\n",
       "       [ 0.00000000e+00, -7.22971264e-01],\n",
       "       [-1.12253443e-01,  1.24660453e-03],\n",
       "       [-9.96522286e-01, -2.01534399e-01],\n",
       "       [ 9.37059666e-02, -8.56595397e-02],\n",
       "       [ 3.26797754e-01, -7.22971264e-01],\n",
       "       [-6.99299425e-01,  1.24660453e-03],\n",
       "       [ 0.00000000e+00,  2.83691573e-01],\n",
       "       [ 0.00000000e+00, -1.10680673e+00],\n",
       "       [-7.19032063e-01,  1.24660453e-03],\n",
       "       [ 0.00000000e+00, -1.26613467e+00],\n",
       "       [ 0.00000000e+00, -1.44718913e+00],\n",
       "       [ 1.41455943e+00, -1.32407210e+00],\n",
       "       [ 1.78454639e+00,  1.21069045e+00],\n",
       "       [ 9.45909273e-01,  2.11596278e+00],\n",
       "       [ 7.17750645e-01, -7.22971264e-01],\n",
       "       [ 1.61536910e-01, -7.22971264e-01],\n",
       "       [-4.36608681e-01, -9.04025732e-01],\n",
       "       [-3.18212853e-01,  1.24660453e-03]])"
      ]
     },
     "execution_count": 45,
     "metadata": {},
     "output_type": "execute_result"
    }
   ],
   "source": [
    "df_s=s.fit_transform(df[['total_bill','tip']])\n",
    "df_s"
   ]
  },
  {
   "cell_type": "code",
   "execution_count": 47,
   "id": "ff22c4f4",
   "metadata": {},
   "outputs": [
    {
     "data": {
      "text/html": [
       "<div>\n",
       "<style scoped>\n",
       "    .dataframe tbody tr th:only-of-type {\n",
       "        vertical-align: middle;\n",
       "    }\n",
       "\n",
       "    .dataframe tbody tr th {\n",
       "        vertical-align: top;\n",
       "    }\n",
       "\n",
       "    .dataframe thead th {\n",
       "        text-align: right;\n",
       "    }\n",
       "</style>\n",
       "<table border=\"1\" class=\"dataframe\">\n",
       "  <thead>\n",
       "    <tr style=\"text-align: right;\">\n",
       "      <th></th>\n",
       "      <th>total_bill</th>\n",
       "      <th>tip</th>\n",
       "    </tr>\n",
       "  </thead>\n",
       "  <tbody>\n",
       "    <tr>\n",
       "      <th>0</th>\n",
       "      <td>0.291579</td>\n",
       "      <td>0.001111</td>\n",
       "    </tr>\n",
       "    <tr>\n",
       "      <th>1</th>\n",
       "      <td>0.383121</td>\n",
       "      <td>0.073333</td>\n",
       "    </tr>\n",
       "    <tr>\n",
       "      <th>2</th>\n",
       "      <td>0.375786</td>\n",
       "      <td>0.277778</td>\n",
       "    </tr>\n",
       "    <tr>\n",
       "      <th>3</th>\n",
       "      <td>0.431713</td>\n",
       "      <td>0.256667</td>\n",
       "    </tr>\n",
       "    <tr>\n",
       "      <th>4</th>\n",
       "      <td>0.450775</td>\n",
       "      <td>0.290000</td>\n",
       "    </tr>\n",
       "  </tbody>\n",
       "</table>\n",
       "</div>"
      ],
      "text/plain": [
       "   total_bill       tip\n",
       "0    0.291579  0.001111\n",
       "1    0.383121  0.073333\n",
       "2    0.375786  0.277778\n",
       "3    0.431713  0.256667\n",
       "4    0.450775  0.290000"
      ]
     },
     "execution_count": 47,
     "metadata": {},
     "output_type": "execute_result"
    }
   ],
   "source": [
    "d.head()"
   ]
  },
  {
   "cell_type": "code",
   "execution_count": 48,
   "id": "c26f89bc",
   "metadata": {},
   "outputs": [
    {
     "data": {
      "text/plain": [
       "0     -5.378662e-01\n",
       "1     -3.261640e-16\n",
       "2     -4.310062e-02\n",
       "3      2.855123e-01\n",
       "4      3.975115e-01\n",
       "           ...     \n",
       "239    9.439689e-01\n",
       "240    7.162783e-01\n",
       "241    1.612056e-01\n",
       "242   -4.357131e-01\n",
       "243   -3.175601e-01\n",
       "Name: total_bill, Length: 244, dtype: float64"
      ]
     },
     "execution_count": 48,
     "metadata": {},
     "output_type": "execute_result"
    }
   ],
   "source": [
    "z=(d['total_bill']-d['total_bill'].mean())/d['total_bill'].std()\n",
    "z"
   ]
  },
  {
   "cell_type": "markdown",
   "id": "226c7062",
   "metadata": {},
   "source": [
    "Create a new feature representing the average tip percentage for each dining party size."
   ]
  },
  {
   "cell_type": "code",
   "execution_count": 49,
   "id": "097af864",
   "metadata": {},
   "outputs": [
    {
     "data": {
      "text/html": [
       "<div>\n",
       "<style scoped>\n",
       "    .dataframe tbody tr th:only-of-type {\n",
       "        vertical-align: middle;\n",
       "    }\n",
       "\n",
       "    .dataframe tbody tr th {\n",
       "        vertical-align: top;\n",
       "    }\n",
       "\n",
       "    .dataframe thead th {\n",
       "        text-align: right;\n",
       "    }\n",
       "</style>\n",
       "<table border=\"1\" class=\"dataframe\">\n",
       "  <thead>\n",
       "    <tr style=\"text-align: right;\">\n",
       "      <th></th>\n",
       "      <th>Unnamed: 0</th>\n",
       "      <th>total_bill</th>\n",
       "      <th>tip</th>\n",
       "      <th>sex</th>\n",
       "      <th>smoker</th>\n",
       "      <th>day</th>\n",
       "      <th>time</th>\n",
       "      <th>size</th>\n",
       "      <th>total_bill_median</th>\n",
       "    </tr>\n",
       "  </thead>\n",
       "  <tbody>\n",
       "    <tr>\n",
       "      <th>0</th>\n",
       "      <td>0</td>\n",
       "      <td>16.990000</td>\n",
       "      <td>1.01</td>\n",
       "      <td>Female</td>\n",
       "      <td>No</td>\n",
       "      <td>Sun</td>\n",
       "      <td>Dinner</td>\n",
       "      <td>2</td>\n",
       "      <td>16.99</td>\n",
       "    </tr>\n",
       "    <tr>\n",
       "      <th>1</th>\n",
       "      <td>1</td>\n",
       "      <td>21.360195</td>\n",
       "      <td>1.66</td>\n",
       "      <td>Male</td>\n",
       "      <td>No</td>\n",
       "      <td>Sun</td>\n",
       "      <td>Dinner</td>\n",
       "      <td>3</td>\n",
       "      <td>19.44</td>\n",
       "    </tr>\n",
       "    <tr>\n",
       "      <th>2</th>\n",
       "      <td>2</td>\n",
       "      <td>21.010000</td>\n",
       "      <td>3.50</td>\n",
       "      <td>Male</td>\n",
       "      <td>No</td>\n",
       "      <td>Sun</td>\n",
       "      <td>Dinner</td>\n",
       "      <td>3</td>\n",
       "      <td>21.01</td>\n",
       "    </tr>\n",
       "    <tr>\n",
       "      <th>3</th>\n",
       "      <td>3</td>\n",
       "      <td>23.680000</td>\n",
       "      <td>3.31</td>\n",
       "      <td>Male</td>\n",
       "      <td>No</td>\n",
       "      <td>Sun</td>\n",
       "      <td>Dinner</td>\n",
       "      <td>2</td>\n",
       "      <td>23.68</td>\n",
       "    </tr>\n",
       "    <tr>\n",
       "      <th>4</th>\n",
       "      <td>4</td>\n",
       "      <td>24.590000</td>\n",
       "      <td>3.61</td>\n",
       "      <td>Female</td>\n",
       "      <td>No</td>\n",
       "      <td>Sun</td>\n",
       "      <td>Dinner</td>\n",
       "      <td>4</td>\n",
       "      <td>24.59</td>\n",
       "    </tr>\n",
       "  </tbody>\n",
       "</table>\n",
       "</div>"
      ],
      "text/plain": [
       "   Unnamed: 0  total_bill   tip     sex smoker  day    time  size  \\\n",
       "0           0   16.990000  1.01  Female     No  Sun  Dinner     2   \n",
       "1           1   21.360195  1.66    Male     No  Sun  Dinner     3   \n",
       "2           2   21.010000  3.50    Male     No  Sun  Dinner     3   \n",
       "3           3   23.680000  3.31    Male     No  Sun  Dinner     2   \n",
       "4           4   24.590000  3.61  Female     No  Sun  Dinner     4   \n",
       "\n",
       "   total_bill_median  \n",
       "0              16.99  \n",
       "1              19.44  \n",
       "2              21.01  \n",
       "3              23.68  \n",
       "4              24.59  "
      ]
     },
     "execution_count": 49,
     "metadata": {},
     "output_type": "execute_result"
    }
   ],
   "source": [
    "df.head()"
   ]
  },
  {
   "cell_type": "code",
   "execution_count": 50,
   "id": "c6e6b688",
   "metadata": {},
   "outputs": [
    {
     "data": {
      "text/html": [
       "<div>\n",
       "<style scoped>\n",
       "    .dataframe tbody tr th:only-of-type {\n",
       "        vertical-align: middle;\n",
       "    }\n",
       "\n",
       "    .dataframe tbody tr th {\n",
       "        vertical-align: top;\n",
       "    }\n",
       "\n",
       "    .dataframe thead th {\n",
       "        text-align: right;\n",
       "    }\n",
       "</style>\n",
       "<table border=\"1\" class=\"dataframe\">\n",
       "  <thead>\n",
       "    <tr style=\"text-align: right;\">\n",
       "      <th></th>\n",
       "      <th>Unnamed: 0</th>\n",
       "      <th>total_bill</th>\n",
       "      <th>tip</th>\n",
       "      <th>sex</th>\n",
       "      <th>smoker</th>\n",
       "      <th>day</th>\n",
       "      <th>time</th>\n",
       "      <th>size</th>\n",
       "      <th>total_bill_median</th>\n",
       "    </tr>\n",
       "  </thead>\n",
       "  <tbody>\n",
       "    <tr>\n",
       "      <th>239</th>\n",
       "      <td>239</td>\n",
       "      <td>29.03</td>\n",
       "      <td>5.92</td>\n",
       "      <td>Male</td>\n",
       "      <td>No</td>\n",
       "      <td>Sat</td>\n",
       "      <td>Dinner</td>\n",
       "      <td>3</td>\n",
       "      <td>29.03</td>\n",
       "    </tr>\n",
       "    <tr>\n",
       "      <th>240</th>\n",
       "      <td>240</td>\n",
       "      <td>27.18</td>\n",
       "      <td>2.00</td>\n",
       "      <td>Female</td>\n",
       "      <td>Yes</td>\n",
       "      <td>Sat</td>\n",
       "      <td>Dinner</td>\n",
       "      <td>2</td>\n",
       "      <td>27.18</td>\n",
       "    </tr>\n",
       "    <tr>\n",
       "      <th>241</th>\n",
       "      <td>241</td>\n",
       "      <td>22.67</td>\n",
       "      <td>2.00</td>\n",
       "      <td>Male</td>\n",
       "      <td>Yes</td>\n",
       "      <td>Sat</td>\n",
       "      <td>Dinner</td>\n",
       "      <td>2</td>\n",
       "      <td>22.67</td>\n",
       "    </tr>\n",
       "    <tr>\n",
       "      <th>242</th>\n",
       "      <td>242</td>\n",
       "      <td>17.82</td>\n",
       "      <td>1.75</td>\n",
       "      <td>Male</td>\n",
       "      <td>No</td>\n",
       "      <td>Sat</td>\n",
       "      <td>Dinner</td>\n",
       "      <td>2</td>\n",
       "      <td>17.82</td>\n",
       "    </tr>\n",
       "    <tr>\n",
       "      <th>243</th>\n",
       "      <td>243</td>\n",
       "      <td>18.78</td>\n",
       "      <td>3.00</td>\n",
       "      <td>Female</td>\n",
       "      <td>No</td>\n",
       "      <td>Thur</td>\n",
       "      <td>Dinner</td>\n",
       "      <td>2</td>\n",
       "      <td>18.78</td>\n",
       "    </tr>\n",
       "  </tbody>\n",
       "</table>\n",
       "</div>"
      ],
      "text/plain": [
       "     Unnamed: 0  total_bill   tip     sex smoker   day    time  size  \\\n",
       "239         239       29.03  5.92    Male     No   Sat  Dinner     3   \n",
       "240         240       27.18  2.00  Female    Yes   Sat  Dinner     2   \n",
       "241         241       22.67  2.00    Male    Yes   Sat  Dinner     2   \n",
       "242         242       17.82  1.75    Male     No   Sat  Dinner     2   \n",
       "243         243       18.78  3.00  Female     No  Thur  Dinner     2   \n",
       "\n",
       "     total_bill_median  \n",
       "239              29.03  \n",
       "240              27.18  \n",
       "241              22.67  \n",
       "242              17.82  \n",
       "243              18.78  "
      ]
     },
     "execution_count": 50,
     "metadata": {},
     "output_type": "execute_result"
    }
   ],
   "source": [
    "df.tail()"
   ]
  },
  {
   "cell_type": "code",
   "execution_count": 51,
   "id": "7c8a5068",
   "metadata": {},
   "outputs": [
    {
     "data": {
      "text/html": [
       "<div>\n",
       "<style scoped>\n",
       "    .dataframe tbody tr th:only-of-type {\n",
       "        vertical-align: middle;\n",
       "    }\n",
       "\n",
       "    .dataframe tbody tr th {\n",
       "        vertical-align: top;\n",
       "    }\n",
       "\n",
       "    .dataframe thead th {\n",
       "        text-align: right;\n",
       "    }\n",
       "</style>\n",
       "<table border=\"1\" class=\"dataframe\">\n",
       "  <thead>\n",
       "    <tr style=\"text-align: right;\">\n",
       "      <th></th>\n",
       "      <th>Unnamed: 0</th>\n",
       "      <th>total_bill</th>\n",
       "      <th>tip</th>\n",
       "      <th>sex</th>\n",
       "      <th>smoker</th>\n",
       "      <th>day</th>\n",
       "      <th>time</th>\n",
       "      <th>size</th>\n",
       "      <th>total_bill_median</th>\n",
       "      <th>avg_tip</th>\n",
       "    </tr>\n",
       "  </thead>\n",
       "  <tbody>\n",
       "    <tr>\n",
       "      <th>0</th>\n",
       "      <td>0</td>\n",
       "      <td>16.990000</td>\n",
       "      <td>1.01</td>\n",
       "      <td>Female</td>\n",
       "      <td>No</td>\n",
       "      <td>Sun</td>\n",
       "      <td>Dinner</td>\n",
       "      <td>2</td>\n",
       "      <td>16.99</td>\n",
       "      <td>2.582308</td>\n",
       "    </tr>\n",
       "    <tr>\n",
       "      <th>1</th>\n",
       "      <td>1</td>\n",
       "      <td>21.360195</td>\n",
       "      <td>1.66</td>\n",
       "      <td>Male</td>\n",
       "      <td>No</td>\n",
       "      <td>Sun</td>\n",
       "      <td>Dinner</td>\n",
       "      <td>3</td>\n",
       "      <td>19.44</td>\n",
       "      <td>3.393158</td>\n",
       "    </tr>\n",
       "    <tr>\n",
       "      <th>2</th>\n",
       "      <td>2</td>\n",
       "      <td>21.010000</td>\n",
       "      <td>3.50</td>\n",
       "      <td>Male</td>\n",
       "      <td>No</td>\n",
       "      <td>Sun</td>\n",
       "      <td>Dinner</td>\n",
       "      <td>3</td>\n",
       "      <td>21.01</td>\n",
       "      <td>3.393158</td>\n",
       "    </tr>\n",
       "    <tr>\n",
       "      <th>3</th>\n",
       "      <td>3</td>\n",
       "      <td>23.680000</td>\n",
       "      <td>3.31</td>\n",
       "      <td>Male</td>\n",
       "      <td>No</td>\n",
       "      <td>Sun</td>\n",
       "      <td>Dinner</td>\n",
       "      <td>2</td>\n",
       "      <td>23.68</td>\n",
       "      <td>2.582308</td>\n",
       "    </tr>\n",
       "    <tr>\n",
       "      <th>4</th>\n",
       "      <td>4</td>\n",
       "      <td>24.590000</td>\n",
       "      <td>3.61</td>\n",
       "      <td>Female</td>\n",
       "      <td>No</td>\n",
       "      <td>Sun</td>\n",
       "      <td>Dinner</td>\n",
       "      <td>4</td>\n",
       "      <td>24.59</td>\n",
       "      <td>4.135405</td>\n",
       "    </tr>\n",
       "  </tbody>\n",
       "</table>\n",
       "</div>"
      ],
      "text/plain": [
       "   Unnamed: 0  total_bill   tip     sex smoker  day    time  size  \\\n",
       "0           0   16.990000  1.01  Female     No  Sun  Dinner     2   \n",
       "1           1   21.360195  1.66    Male     No  Sun  Dinner     3   \n",
       "2           2   21.010000  3.50    Male     No  Sun  Dinner     3   \n",
       "3           3   23.680000  3.31    Male     No  Sun  Dinner     2   \n",
       "4           4   24.590000  3.61  Female     No  Sun  Dinner     4   \n",
       "\n",
       "   total_bill_median   avg_tip  \n",
       "0              16.99  2.582308  \n",
       "1              19.44  3.393158  \n",
       "2              21.01  3.393158  \n",
       "3              23.68  2.582308  \n",
       "4              24.59  4.135405  "
      ]
     },
     "execution_count": 51,
     "metadata": {},
     "output_type": "execute_result"
    }
   ],
   "source": [
    "df['avg_tip']=df.groupby('size')['tip'].transform('mean')\n",
    "df.head(5)"
   ]
  },
  {
   "cell_type": "markdown",
   "id": "5e24c074",
   "metadata": {},
   "source": [
    "Create a new feature based on total bill and tips if total bill is greater than 10$ and tips is greater than 3$ mark as Highest-bills-with-tips otherwise Normal-bills"
   ]
  },
  {
   "cell_type": "code",
   "execution_count": 52,
   "id": "38340042",
   "metadata": {},
   "outputs": [],
   "source": [
    "def categorize(total_bill,tip):\n",
    "    if total_bill>10 and tip>3:\n",
    "        return 'Highest-bills-with-tips'\n",
    "    else:\n",
    "        return 'Normal-bills'\n",
    "df['bill_category']=df.apply(lambda row:categorize(row['total_bill'],row['tip']),axis=1)"
   ]
  },
  {
   "cell_type": "code",
   "execution_count": 54,
   "id": "768bb9ae",
   "metadata": {},
   "outputs": [
    {
     "data": {
      "text/html": [
       "<div>\n",
       "<style scoped>\n",
       "    .dataframe tbody tr th:only-of-type {\n",
       "        vertical-align: middle;\n",
       "    }\n",
       "\n",
       "    .dataframe tbody tr th {\n",
       "        vertical-align: top;\n",
       "    }\n",
       "\n",
       "    .dataframe thead th {\n",
       "        text-align: right;\n",
       "    }\n",
       "</style>\n",
       "<table border=\"1\" class=\"dataframe\">\n",
       "  <thead>\n",
       "    <tr style=\"text-align: right;\">\n",
       "      <th></th>\n",
       "      <th>Unnamed: 0</th>\n",
       "      <th>total_bill</th>\n",
       "      <th>tip</th>\n",
       "      <th>sex</th>\n",
       "      <th>smoker</th>\n",
       "      <th>day</th>\n",
       "      <th>time</th>\n",
       "      <th>size</th>\n",
       "      <th>total_bill_median</th>\n",
       "      <th>avg_tip</th>\n",
       "      <th>bill_category</th>\n",
       "    </tr>\n",
       "  </thead>\n",
       "  <tbody>\n",
       "    <tr>\n",
       "      <th>0</th>\n",
       "      <td>0</td>\n",
       "      <td>16.990000</td>\n",
       "      <td>1.01</td>\n",
       "      <td>Female</td>\n",
       "      <td>No</td>\n",
       "      <td>Sun</td>\n",
       "      <td>Dinner</td>\n",
       "      <td>2</td>\n",
       "      <td>16.99</td>\n",
       "      <td>2.582308</td>\n",
       "      <td>Normal-bills</td>\n",
       "    </tr>\n",
       "    <tr>\n",
       "      <th>1</th>\n",
       "      <td>1</td>\n",
       "      <td>21.360195</td>\n",
       "      <td>1.66</td>\n",
       "      <td>Male</td>\n",
       "      <td>No</td>\n",
       "      <td>Sun</td>\n",
       "      <td>Dinner</td>\n",
       "      <td>3</td>\n",
       "      <td>19.44</td>\n",
       "      <td>3.393158</td>\n",
       "      <td>Normal-bills</td>\n",
       "    </tr>\n",
       "    <tr>\n",
       "      <th>2</th>\n",
       "      <td>2</td>\n",
       "      <td>21.010000</td>\n",
       "      <td>3.50</td>\n",
       "      <td>Male</td>\n",
       "      <td>No</td>\n",
       "      <td>Sun</td>\n",
       "      <td>Dinner</td>\n",
       "      <td>3</td>\n",
       "      <td>21.01</td>\n",
       "      <td>3.393158</td>\n",
       "      <td>Highest-bills-with-tips</td>\n",
       "    </tr>\n",
       "    <tr>\n",
       "      <th>3</th>\n",
       "      <td>3</td>\n",
       "      <td>23.680000</td>\n",
       "      <td>3.31</td>\n",
       "      <td>Male</td>\n",
       "      <td>No</td>\n",
       "      <td>Sun</td>\n",
       "      <td>Dinner</td>\n",
       "      <td>2</td>\n",
       "      <td>23.68</td>\n",
       "      <td>2.582308</td>\n",
       "      <td>Highest-bills-with-tips</td>\n",
       "    </tr>\n",
       "    <tr>\n",
       "      <th>4</th>\n",
       "      <td>4</td>\n",
       "      <td>24.590000</td>\n",
       "      <td>3.61</td>\n",
       "      <td>Female</td>\n",
       "      <td>No</td>\n",
       "      <td>Sun</td>\n",
       "      <td>Dinner</td>\n",
       "      <td>4</td>\n",
       "      <td>24.59</td>\n",
       "      <td>4.135405</td>\n",
       "      <td>Highest-bills-with-tips</td>\n",
       "    </tr>\n",
       "    <tr>\n",
       "      <th>5</th>\n",
       "      <td>5</td>\n",
       "      <td>25.290000</td>\n",
       "      <td>4.71</td>\n",
       "      <td>Male</td>\n",
       "      <td>No</td>\n",
       "      <td>Sun</td>\n",
       "      <td>Dinner</td>\n",
       "      <td>4</td>\n",
       "      <td>25.29</td>\n",
       "      <td>4.135405</td>\n",
       "      <td>Highest-bills-with-tips</td>\n",
       "    </tr>\n",
       "  </tbody>\n",
       "</table>\n",
       "</div>"
      ],
      "text/plain": [
       "   Unnamed: 0  total_bill   tip     sex smoker  day    time  size  \\\n",
       "0           0   16.990000  1.01  Female     No  Sun  Dinner     2   \n",
       "1           1   21.360195  1.66    Male     No  Sun  Dinner     3   \n",
       "2           2   21.010000  3.50    Male     No  Sun  Dinner     3   \n",
       "3           3   23.680000  3.31    Male     No  Sun  Dinner     2   \n",
       "4           4   24.590000  3.61  Female     No  Sun  Dinner     4   \n",
       "5           5   25.290000  4.71    Male     No  Sun  Dinner     4   \n",
       "\n",
       "   total_bill_median   avg_tip            bill_category  \n",
       "0              16.99  2.582308             Normal-bills  \n",
       "1              19.44  3.393158             Normal-bills  \n",
       "2              21.01  3.393158  Highest-bills-with-tips  \n",
       "3              23.68  2.582308  Highest-bills-with-tips  \n",
       "4              24.59  4.135405  Highest-bills-with-tips  \n",
       "5              25.29  4.135405  Highest-bills-with-tips  "
      ]
     },
     "execution_count": 54,
     "metadata": {},
     "output_type": "execute_result"
    }
   ],
   "source": [
    "df.head(6)"
   ]
  }
 ],
 "metadata": {
  "kernelspec": {
   "display_name": "Python 3 (ipykernel)",
   "language": "python",
   "name": "python3"
  },
  "language_info": {
   "codemirror_mode": {
    "name": "ipython",
    "version": 3
   },
   "file_extension": ".py",
   "mimetype": "text/x-python",
   "name": "python",
   "nbconvert_exporter": "python",
   "pygments_lexer": "ipython3",
   "version": "3.10.9"
  }
 },
 "nbformat": 4,
 "nbformat_minor": 5
}
